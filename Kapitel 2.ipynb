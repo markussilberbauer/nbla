{
 "cells": [
  {
   "cell_type": "code",
   "execution_count": 2,
   "metadata": {},
   "outputs": [],
   "source": [
    "import numpy as np"
   ]
  },
  {
   "cell_type": "code",
   "execution_count": 8,
   "metadata": {},
   "outputs": [
    {
     "name": "stdout",
     "output_type": "stream",
     "text": [
      "a) u+v=[1 1 3]\n",
      "b) u-v=[ 1  1 -3]\n",
      "c) 3u+v=[3 3 3]\n",
      "d) ||u||=1.4142135623730951\n"
     ]
    }
   ],
   "source": [
    "# E 2.4\n",
    "u = np.array([1,1,0])\n",
    "v = np.array([0,0,3])\n",
    "\n",
    "print(f\"a) u+v={u+v}\")\n",
    "print(f\"b) u-v={u-v}\")\n",
    "print(f\"c) 3u+v={3*u+v}\")\n",
    "print(f\"d) ||u||={np.linalg.norm(u)}\")\n"
   ]
  },
  {
   "cell_type": "code",
   "execution_count": 18,
   "metadata": {},
   "outputs": [
    {
     "name": "stdout",
     "output_type": "stream",
     "text": [
      "v . w=5 or 5\n",
      "v x w=[-1 -1  1]\n",
      "x . v = 0\n",
      "w x v = [ 1  1 -1]\n",
      "w x w = [0 0 0]\n"
     ]
    }
   ],
   "source": [
    "#  E 2.5\n",
    "v=np.array([1,2,3])\n",
    "w=np.array([0,1,1])\n",
    "\n",
    "print(f\"v . w={v@w} or {np.dot(v,w)}\")\n",
    "x = np.cross(v,w)\n",
    "print(f\"v x w={x}\")\n",
    "# verify x is perpendicular by calculating the dot product of x with v (or w)\n",
    "print(f\"x . v = {x@v}\")\n",
    "print(f\"w x v = {np.cross(w,v)}\")\n",
    "print(f\"w x w = {np.cross(w,w)}\")\n"
   ]
  },
  {
   "cell_type": "code",
   "execution_count": 17,
   "metadata": {},
   "outputs": [
    {
     "name": "stdout",
     "output_type": "stream",
     "text": [
      "[[9.84807753 8.66025404 5.         5.        ]\n",
      " [1.73648178 5.         8.66025404 8.66025404]]\n"
     ]
    }
   ],
   "source": []
  },
  {
   "cell_type": "code",
   "execution_count": 5,
   "metadata": {},
   "outputs": [
    {
     "name": "stdout",
     "output_type": "stream",
     "text": [
      "0\n",
      "1\n",
      "2\n",
      "3\n"
     ]
    },
    {
     "data": {
      "image/png": "[encoded data removed]",
      "text/plain": [
       "<Figure size 640x480 with 1 Axes>"
      ]
     },
     "metadata": {},
     "output_type": "display_data"
    }
   ],
   "source": [
    "# E 2.6\n",
    "\n",
    "import matplotlib.pyplot as plt\n",
    "\n",
    "# b)\n",
    "thetas = np.array([10,30,60,120])\n",
    "thetas = np.array([10,30,60,120])\n",
    "\n",
    "v = np.array([10 * np.cos(np.radians(thetas)),10 * np.sin(np.radians(thetas))]).transpose()\n",
    "\n",
    "\n",
    "#v1 = np.array([10*np.cos(np.radians(10)), 10*np.sin(np.radians(10))])\n",
    "#v2 = np.array([10*np.cos(np.radians(30)), 10*np.sin(np.radians(30))])\n",
    "#v3 = np.array([10*np.cos(np.radians(60)), 10*np.sin(np.radians(60))])\n",
    "#v4 = np.array([10*np.cos(np.radians(120)), 10*np.sin(np.radians(120))])\n",
    "#print(f\"v1={v1}\\nv2={v2}\\nv3={v3}\\nv4={v4}\")\n",
    "\n",
    "\n",
    "# a)\n",
    "fig = plt.figure()\n",
    "ax = fig.add_subplot(1, 1, 1)\n",
    "ax.set_aspect('equal')\n",
    "ax.set_xlim((-6,12))\n",
    "ax.set_ylim((-1,12))\n",
    "ax.grid()\n",
    "\n",
    "for x in range(0,4):\n",
    "    print(x)\n",
    "    ax.plot([0,v[x][0]], [0, v[x][1]])\n",
    "\n",
    "#ax.plot([0,v1[0],0,v2[0],0,v3[0],0,v4[0]], [0,v1[1],0,v2[1],0,v3[1],0,v4[1]])\n",
    "#ax.plot([0,v1[0]], [0,v1[1]])\n",
    "#ax.plot([0,v2[0]], [0,v2[1]])\n",
    "#ax.plot([0,v3[0]], [0,v3[1]])\n",
    "#ax.plot([0,v4[0]], [0,v4[1]])\n"
   ]
  },
  {
   "cell_type": "code",
   "execution_count": 48,
   "metadata": {},
   "outputs": [
    {
     "name": "stdout",
     "output_type": "stream",
     "text": [
      "Proj i (v1)=[9.84807753 0.        ]\n",
      "Proj i (v2)=[8.66025404 0.        ]\n",
      "Proj i (v3)=[5. 0.]\n",
      "Proj i (v4)=[-5. -0.]\n",
      "\n",
      "Proj j (v1)=[0.         1.73648178]\n",
      "Proj j (v2)=[0. 5.]\n",
      "Proj j (v3)=[0.         8.66025404]\n",
      "Proj j (v4)=[0.         8.66025404]\n"
     ]
    }
   ],
   "source": [
    "# c)\n",
    "i=np.array([1,0])\n",
    "print(f\"Proj i (v1)={i@v1*i}\")\n",
    "print(f\"Proj i (v2)={i@v2*i}\")\n",
    "print(f\"Proj i (v3)={i@v3*i}\")\n",
    "print(f\"Proj i (v4)={i@v4*i}\\n\")\n",
    "\n",
    "# d)\n",
    "j=np.array([0,1])\n",
    "print(f\"Proj j (v1)={j@v1*j}\")\n",
    "print(f\"Proj j (v2)={j@v2*j}\")\n",
    "print(f\"Proj j (v3)={j@v3*j}\")\n",
    "print(f\"Proj j (v4)={j@v4*j}\")\n"
   ]
  },
  {
   "cell_type": "code",
   "execution_count": 57,
   "metadata": {},
   "outputs": [
    {
     "name": "stdout",
     "output_type": "stream",
     "text": [
      "Proj d (v1)=[5.79227965 5.79227965] norm=8.191520442889916\n",
      "Proj d (v1)=[6.83012702 6.83012702] norm=9.65925826289068\n",
      "Proj d (v1)=[6.83012702 6.83012702] norm=9.65925826289068\n",
      "Proj d (v1)=[1.83012702 1.83012702] norm=2.5881904510252087\n"
     ]
    }
   ],
   "source": [
    "# e)\n",
    "d=np.array([1,1])\n",
    "Pv1=(d@v1)/np.linalg.norm(d)**2*d\n",
    "Pv2=(d@v2)/np.linalg.norm(d)**2*d\n",
    "Pv3=(d@v3)/np.linalg.norm(d)**2*d\n",
    "Pv4=(d@v4)/np.linalg.norm(d)**2*d\n",
    "\n",
    "print(f\"Proj d (v1)={Pv1} norm={np.linalg.norm(Pv1)}\")\n",
    "print(f\"Proj d (v2)={Pv2} norm={np.linalg.norm(Pv2)}\")\n",
    "print(f\"Proj d (v3)={Pv3} norm={np.linalg.norm(Pv3)}\")\n",
    "print(f\"Proj d (v4)={Pv4} norm={np.linalg.norm(Pv4)}\")"
   ]
  },
  {
   "cell_type": "code",
   "execution_count": 25,
   "metadata": {},
   "outputs": [
    {
     "name": "stdout",
     "output_type": "stream",
     "text": [
      "9.84807753012208\n"
     ]
    }
   ],
   "source": []
  },
  {
   "cell_type": "code",
   "execution_count": null,
   "metadata": {},
   "outputs": [],
   "source": []
  }
 ],
 "metadata": {
  "kernelspec": {
   "display_name": "Python 3",
   "language": "python",
   "name": "python3"
  },
  "language_info": {
   "codemirror_mode": {
    "name": "ipython",
    "version": 3
   },
   "file_extension": ".py",
   "mimetype": "text/x-python",
   "name": "python",
   "nbconvert_exporter": "python",
   "pygments_lexer": "ipython3",
   "version": "3.11.3"
  },
  "orig_nbformat": 4
 },
 "nbformat": 4,
 "nbformat_minor": 2
}
